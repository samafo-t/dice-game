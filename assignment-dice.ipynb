{
 "cells": [
  {
   "cell_type": "code",
   "execution_count": 2,
   "metadata": {},
   "outputs": [
    {
     "name": "stdout",
     "output_type": "stream",
     "text": [
      "You have rolled a: 2\n",
      "You have rolled a: 4\n",
      "You have finished.\n"
     ]
    }
   ],
   "source": [
    "## dice rolling \n",
    "\n",
    "# this uses the random library and the randint method \n",
    "## to choose a random integer that includes the full specified range i.e. 1 to 6\n",
    "import random \n",
    "\n",
    "#create an infinite loop to allow for multipe iterative rolls of the die\n",
    "loop = True\n",
    "while loop == True:\n",
    "\n",
    "    # this is a variable to store the user's initial decision\n",
    "    #use the .lower method to remove any differences in capitalisation input \n",
    "    choice = input(\"Would you like to roll a 6 sided die? (Y/N)\").lower()\n",
    "\n",
    "    # this is a variable for the outcome of the roll \n",
    "    die_outcome = random.randint(1,6)\n",
    "\n",
    "    #create the first outcome being yes\n",
    "   \n",
    "    if choice == \"y\":\n",
    "        print(\"You have rolled a: \" +str(die_outcome)) #this prints the outcome of the roll\n",
    "        \n",
    "        #infinite loop for repeated rolls after a first succesful roll\n",
    "        while True:\n",
    "            #the decisions for repeated rolls\n",
    "            again = input(\"Would you like to roll again? (Y/N)\").lower()\n",
    "            if again == \"y\":\n",
    "                die_outcome = random.randint(1,6) #to reroll the die\n",
    "                print(\"You have rolled a: \" +str(die_outcome)) \n",
    "            elif again == \"n\":\n",
    "                print(\"You have finished.\")\n",
    "                loop = False #this ends the outer while loop\n",
    "                break        #this ends the inner/ nested while loop\n",
    "            else:\n",
    "                print(\"You have entered incorrectly, please try again.\")\n",
    "            continue #allows for another attempt to input\n",
    "\n",
    "    #create the second outcome where the user has said no\n",
    "    elif choice == \"n\":\n",
    "        print(\"You have finished.\")\n",
    "        loop = False #this ends the loop\n",
    "    \n",
    "    #the third outcome where the user has inputted incorrectly\n",
    "    else:\n",
    "            print(\"You have entered incorrectly, please try again.\")\n",
    "    continue\n",
    "\n",
    "\n",
    "## Note: for some reason, sometimes the process skips an output. \n",
    "## If it does the next option has two outputs. \n",
    "## So it registers but the print does not sometimes appear \n",
    "## Not sure why. More likely to happen over extended rolls."
   ]
  }
 ],
 "metadata": {
  "kernelspec": {
   "display_name": "Python 3",
   "language": "python",
   "name": "python3"
  },
  "language_info": {
   "codemirror_mode": {
    "name": "ipython",
    "version": 3
   },
   "file_extension": ".py",
   "mimetype": "text/x-python",
   "name": "python",
   "nbconvert_exporter": "python",
   "pygments_lexer": "ipython3",
   "version": "3.12.1"
  }
 },
 "nbformat": 4,
 "nbformat_minor": 2
}
